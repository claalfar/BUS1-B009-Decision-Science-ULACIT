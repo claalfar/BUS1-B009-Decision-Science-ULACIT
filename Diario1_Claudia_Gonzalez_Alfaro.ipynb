{
  "nbformat": 4,
  "nbformat_minor": 0,
  "metadata": {
    "colab": {
      "name": "Diario1-Claudia-Gonzalez-Alfaro.ipynb",
      "provenance": [],
      "authorship_tag": "ABX9TyPAjf5hkX0RDW2c3gYq2Xf1",
      "include_colab_link": true
    },
    "kernelspec": {
      "name": "python3",
      "display_name": "Python 3"
    },
    "language_info": {
      "name": "python"
    }
  },
  "cells": [
    {
      "cell_type": "markdown",
      "metadata": {
        "id": "view-in-github",
        "colab_type": "text"
      },
      "source": [
        "<a href=\"https://colab.research.google.com/github/claalfar/BUS1-B009-Decision-Science-ULACIT/blob/main/Diario1_Claudia_Gonzalez_Alfaro.ipynb\" target=\"_parent\"><img src=\"https://colab.research.google.com/assets/colab-badge.svg\" alt=\"Open In Colab\"/></a>"
      ]
    },
    {
      "cell_type": "markdown",
      "source": [
        "#Ejercicio 1\n",
        "### Generar un código en Python que diga \"Hello World\"\n",
        "\n"
      ],
      "metadata": {
        "id": "by0fhHqd73CP"
      }
    },
    {
      "cell_type": "code",
      "source": [
        "print(\"Hello World!\")\n"
      ],
      "metadata": {
        "colab": {
          "base_uri": "https://localhost:8080/"
        },
        "id": "UhVj3lJu8OrQ",
        "outputId": "2bee3d83-26cc-4866-86fb-c111a3fe711d"
      },
      "execution_count": 2,
      "outputs": [
        {
          "output_type": "stream",
          "name": "stdout",
          "text": [
            "Hello World!\n"
          ]
        }
      ]
    }
  ]
}